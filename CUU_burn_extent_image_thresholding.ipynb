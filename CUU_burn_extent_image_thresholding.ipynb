{
  "nbformat": 4,
  "nbformat_minor": 0,
  "metadata": {
    "colab": {
      "name": "CUU_burn_extent_image_thresholding.ipynb",
      "provenance": [],
      "collapsed_sections": [],
      "machine_shape": "hm",
      "include_colab_link": true
    },
    "kernelspec": {
      "name": "python3",
      "display_name": "Python 3"
    }
  },
  "cells": [
    {
      "cell_type": "markdown",
      "metadata": {
        "id": "view-in-github",
        "colab_type": "text"
      },
      "source": [
        "<a href=\"https://colab.research.google.com/github/duncansnh/burn-mapping/blob/master/CUU_burn_extent_image_thresholding.ipynb\" target=\"_parent\"><img src=\"https://colab.research.google.com/assets/colab-badge.svg\" alt=\"Open In Colab\"/></a>"
      ]
    },
    {
      "cell_type": "markdown",
      "metadata": {
        "id": "AzhcWTCF4xvQ"
      },
      "source": [
        "##Script to threshold an input image based on one or more index thresholds\n",
        "Inputs are\n",
        "\n",
        "1)  indices generated from sentinel 2 imagery (generated from previous script) \n",
        "\n",
        "Main steps:\n",
        "•\tthreshold the image\n",
        "\n",
        "Duncan Blake NatureScot 30 September 2020"
      ]
    },
    {
      "cell_type": "code",
      "metadata": {
        "id": "bQ4BbT9b5SGT"
      },
      "source": [
        "#This is only required if running in colab notebook to install the libraries\n",
        "#If running Python code elsewhere need to make sure below libraries are installed\n",
        "! pip install geopandas\n",
        "! pip install descartes\n",
        "! pip install rasterio\n",
        "! pip install rasterstats"
      ],
      "execution_count": null,
      "outputs": []
    },
    {
      "cell_type": "code",
      "metadata": {
        "id": "ZqbFH-cc48L1"
      },
      "source": [
        "import pandas as pd\n",
        "import numpy as np\n",
        "import matplotlib.pyplot as plt\n",
        "import os\n",
        "import json\n",
        "import geopandas as gpd\n",
        "import descartes\n",
        "import rasterio\n",
        "from rasterio.mask import mask\n",
        "from rasterio.features import geometry_mask\n",
        "from rasterio.features import sieve, shapes\n",
        "from shapely.geometry import mapping\n",
        "from rasterstats import zonal_stats\n",
        "import gdal"
      ],
      "execution_count": null,
      "outputs": []
    },
    {
      "cell_type": "code",
      "metadata": {
        "id": "YUp4Uh2R5sZh"
      },
      "source": [
        "#Only if running in Google Colab, in which case input image, training polygons and output results need to be in Google Drive.\n",
        "from google.colab import drive\n",
        "drive.mount('/content/drive/', force_remount=True)"
      ],
      "execution_count": null,
      "outputs": []
    },
    {
      "cell_type": "markdown",
      "metadata": {
        "id": "AMsQ8v3Ro1ns"
      },
      "source": [
        "Set working drive, file paths and dataset name parameters\n"
      ]
    },
    {
      "cell_type": "code",
      "metadata": {
        "id": "MYjD-LPt48Ml"
      },
      "source": [
        "\n",
        "wd = '/content/drive/My Drive'\n",
        "image_dir = os.path.join(wd, 'Imagery')\n",
        "plot_dir = os.path.join(wd, 'Plots')\n",
        "\n",
        "# Cairngorms parameters\n",
        "# image = 'CUU_burn_cairngorms_indices.tif'\n",
        "# outImage = 'CUU_burn_cairngorms_core_burns.tif'\n",
        "\n",
        "# Skye parameters\n",
        "image = 'CUU_burn_skye_indices.tif'\n",
        "outImage = 'CUU_burn_skye_core_burns.tif'"
      ],
      "execution_count": null,
      "outputs": []
    },
    {
      "cell_type": "markdown",
      "metadata": {
        "id": "kVIFMdeuwhIu"
      },
      "source": [
        "###Open input image and polygon dataset"
      ]
    },
    {
      "cell_type": "code",
      "metadata": {
        "id": "yI995WqY48Nw"
      },
      "source": [
        "# Read image\n",
        "s2 = rasterio.open(os.path.join(image_dir,image))\n",
        "print(s2.shape)\n",
        "profile = s2.profile.copy()\n",
        "# optionally check all ok by showing dsavi layer\n",
        "# plt.imshow(s2.read(21), cmap='pink')\n",
        "# plt.show()\n",
        "# print(type(s2))"
      ],
      "execution_count": null,
      "outputs": []
    },
    {
      "cell_type": "markdown",
      "metadata": {
        "id": "2Ock8CzwKJgU"
      },
      "source": [
        "## Import pickled dataframe and determine threshold values from percentiles\n"
      ]
    },
    {
      "cell_type": "code",
      "metadata": {
        "id": "a4kkWSDgKSnv"
      },
      "source": [
        "# read in pickled object of all data combined (created from previous script that generated the boxplots)\n",
        "pickleName = (\"All_data_for_thresholding.pkl\")\n",
        "df_all_data = pd.read_pickle(os.path.join(plot_dir,pickleName))\n",
        "\n",
        "# obtain percentile values\n",
        "# isolate burn rows in dataframe\n",
        "df_burns = df_all_data[df_all_data.Class == \"Burns\"]\n",
        "# subset columns we are interested in\n",
        "df_burns_indices = df_burns[['dnbr','dnbr2','dcsi','dsavi','postnbr']]\n",
        "# extract quartile statistics needed\n",
        "\n",
        "# medians\n",
        "print(\"medians\")\n",
        "dNBRQ2 = df_burns_indices.dnbr.quantile(0.5)\n",
        "print(dNBRQ2)\n",
        "dSAVIQ2 = df_burns_indices.dsavi.quantile(0.5)\n",
        "print(dSAVIQ2)\n",
        "postNBRQ2 = df_burns_indices.postnbr.quantile(0.5)\n",
        "print(postNBRQ2)\n",
        "\n",
        "# 75th percentile\n",
        "print(\"75th percentiles\")\n",
        "dNBRQ3 = df_burns_indices.dnbr.quantile(0.75)\n",
        "print(dNBRQ3)\n",
        "dSAVIQ3 = df_burns_indices.dsavi.quantile(0.75)\n",
        "print(dSAVIQ3)\n",
        "postNBRQ3 = df_burns_indices.postnbr.quantile(0.75)\n",
        "print(postNBRQ3)\n",
        "dNBR2Q3 = df_burns_indices.dnbr2.quantile(0.75)\n",
        "print(dNBR2Q3)\n"
      ],
      "execution_count": null,
      "outputs": []
    },
    {
      "cell_type": "markdown",
      "metadata": {
        "id": "KQ-AwVBmcF2x"
      },
      "source": [
        "## Set the threshold\n"
      ]
    },
    {
      "cell_type": "code",
      "metadata": {
        "id": "X2PKAW4ycOH5"
      },
      "source": [
        "# for multiple indices threshold\n",
        "# read in bands required 2 postnbr; 3 dnbr; 6 dnbr2; 15 dcsi; 21 dsavi \n",
        "indicesArray = s2.read([2,3,6,15,21])\n",
        "\n",
        "# read in a single band as a template for the output reclassified image\n",
        "band1 = s2.read(1)\n",
        "reclassArray = band1.copy()\n",
        "# reset all values in output raster to 0 as otherwise pixel values not reclassed by the condition below may retain value from prenbr (band1)\n",
        "reclassArray[np.where(reclassArray != 0)] = 0\n",
        "\n",
        "# reclassify the raster\n",
        "# in this case where dsavi is greater than the median and post fire image NBR is greater than the mean \n",
        "reclassArray[np.where((indicesArray[4]>=dSAVIQ2) & (indicesArray[0]>=postNBRQ2))] = 1 \n",
        "# then attempt to solve issue of edges of clouds being falsely identified which have high values in dnbr2\n",
        "reclassArray[np.where(indicesArray[2]>=0.8)] = 0\n",
        "\n",
        "# rasterio function to exclude clumps of pixels smaller than 3.  Diagonally joined pixels are allowed.\n",
        "sievedArray = sieve(reclassArray.astype(rasterio.uint8), size=3, connectivity=8)\n"
      ],
      "execution_count": null,
      "outputs": []
    },
    {
      "cell_type": "markdown",
      "metadata": {
        "id": "Zor1ibadb9_X"
      },
      "source": [
        "## Plot the thresholded raster"
      ]
    },
    {
      "cell_type": "code",
      "metadata": {
        "id": "Lu6OXMyQck4y"
      },
      "source": [
        "# an inital look to see if in the right ballpark but viewing in GIS is much better!\n",
        "plt.figure(figsize=(20,15)); \n",
        "plt.imshow(sievedArray,cmap='pink')\n",
        "plt.title('Thresholded image')\n",
        "ax=plt.gca(); ax.ticklabel_format(useOffset=False, style='plain') #do not use scientific notation \n",
        "rotatexlabels = plt.setp(ax.get_xticklabels(),rotation=90) #rotate x tick labels 90 degrees\n",
        "\n"
      ],
      "execution_count": null,
      "outputs": []
    },
    {
      "cell_type": "markdown",
      "metadata": {
        "id": "FC9VzrHUgH68"
      },
      "source": [
        "## Export the thresholded raster"
      ]
    },
    {
      "cell_type": "code",
      "metadata": {
        "id": "KsBo0YeUg9Tj"
      },
      "source": [
        "# export the classified array, converting to an integer\n",
        "profile.update(dtype=rasterio.uint8,\n",
        "        count=1,\n",
        "        compress='lzw')  \n",
        "\n",
        "with rasterio.open(os.path.join(image_dir,outImage), 'w', **profile) as dst:\n",
        "        dst.write(sievedArray, 1)"
      ],
      "execution_count": null,
      "outputs": []
    }
  ]
}