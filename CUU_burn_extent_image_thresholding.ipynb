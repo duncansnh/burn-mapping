{
  "nbformat": 4,
  "nbformat_minor": 0,
  "metadata": {
    "colab": {
      "name": "CUU_burn_extent_image_thresholding.ipynb",
      "provenance": [],
      "collapsed_sections": [],
      "machine_shape": "hm",
      "include_colab_link": true
    },
    "kernelspec": {
      "name": "python3",
      "display_name": "Python 3"
    }
  },
  "cells": [
    {
      "cell_type": "markdown",
      "metadata": {
        "id": "view-in-github",
        "colab_type": "text"
      },
      "source": [
        "<a href=\"https://colab.research.google.com/github/duncansnh/burn-mapping/blob/region_growing/CUU_burn_extent_image_thresholding.ipynb\" target=\"_parent\"><img src=\"https://colab.research.google.com/assets/colab-badge.svg\" alt=\"Open In Colab\"/></a>"
      ]
    },
    {
      "cell_type": "markdown",
      "metadata": {
        "id": "AzhcWTCF4xvQ"
      },
      "source": [
        "##Script to threshold an input image based on one or more index thresholds\n",
        "Inputs are\n",
        "\n",
        "1)  indices generated from sentinel 2 imagery (generated from previous script) \n",
        "\n",
        "Main steps:\n",
        "•\tthreshold the image\n",
        "\n",
        "Duncan Blake NatureScot 30 September 2020\n",
        "\n",
        "Changes 13 November 2020: \n",
        "\n",
        "Extra code to create a second thresholding layer to test whether this is a viable alternative to region growing"
      ]
    },
    {
      "cell_type": "code",
      "metadata": {
        "id": "bQ4BbT9b5SGT",
        "outputId": "e1bfefc4-a4f6-40fd-f7a6-ebae7d063a4f",
        "colab": {
          "base_uri": "https://localhost:8080/"
        }
      },
      "source": [
        "#This is only required if running in colab notebook to install the libraries\n",
        "#If running Python code elsewhere need to make sure below libraries are installed\n",
        "! pip install geopandas\n",
        "! pip install descartes\n",
        "! pip install rasterio\n",
        "! pip install rasterstats"
      ],
      "execution_count": 2,
      "outputs": [
        {
          "output_type": "stream",
          "text": [
            "Requirement already satisfied: geopandas in /usr/local/lib/python3.6/dist-packages (0.8.1)\n",
            "Requirement already satisfied: pyproj>=2.2.0 in /usr/local/lib/python3.6/dist-packages (from geopandas) (3.0.0.post1)\n",
            "Requirement already satisfied: pandas>=0.23.0 in /usr/local/lib/python3.6/dist-packages (from geopandas) (1.1.4)\n",
            "Requirement already satisfied: fiona in /usr/local/lib/python3.6/dist-packages (from geopandas) (1.8.17)\n",
            "Requirement already satisfied: shapely in /usr/local/lib/python3.6/dist-packages (from geopandas) (1.7.1)\n",
            "Requirement already satisfied: certifi in /usr/local/lib/python3.6/dist-packages (from pyproj>=2.2.0->geopandas) (2020.6.20)\n",
            "Requirement already satisfied: numpy>=1.15.4 in /usr/local/lib/python3.6/dist-packages (from pandas>=0.23.0->geopandas) (1.18.5)\n",
            "Requirement already satisfied: python-dateutil>=2.7.3 in /usr/local/lib/python3.6/dist-packages (from pandas>=0.23.0->geopandas) (2.8.1)\n",
            "Requirement already satisfied: pytz>=2017.2 in /usr/local/lib/python3.6/dist-packages (from pandas>=0.23.0->geopandas) (2018.9)\n",
            "Requirement already satisfied: munch in /usr/local/lib/python3.6/dist-packages (from fiona->geopandas) (2.5.0)\n",
            "Requirement already satisfied: click<8,>=4.0 in /usr/local/lib/python3.6/dist-packages (from fiona->geopandas) (7.1.2)\n",
            "Requirement already satisfied: six>=1.7 in /usr/local/lib/python3.6/dist-packages (from fiona->geopandas) (1.15.0)\n",
            "Requirement already satisfied: click-plugins>=1.0 in /usr/local/lib/python3.6/dist-packages (from fiona->geopandas) (1.1.1)\n",
            "Requirement already satisfied: cligj>=0.5 in /usr/local/lib/python3.6/dist-packages (from fiona->geopandas) (0.7.0)\n",
            "Requirement already satisfied: attrs>=17 in /usr/local/lib/python3.6/dist-packages (from fiona->geopandas) (20.2.0)\n",
            "Requirement already satisfied: descartes in /usr/local/lib/python3.6/dist-packages (1.1.0)\n",
            "Requirement already satisfied: matplotlib in /usr/local/lib/python3.6/dist-packages (from descartes) (3.2.2)\n",
            "Requirement already satisfied: numpy>=1.11 in /usr/local/lib/python3.6/dist-packages (from matplotlib->descartes) (1.18.5)\n",
            "Requirement already satisfied: kiwisolver>=1.0.1 in /usr/local/lib/python3.6/dist-packages (from matplotlib->descartes) (1.3.1)\n",
            "Requirement already satisfied: python-dateutil>=2.1 in /usr/local/lib/python3.6/dist-packages (from matplotlib->descartes) (2.8.1)\n",
            "Requirement already satisfied: pyparsing!=2.0.4,!=2.1.2,!=2.1.6,>=2.0.1 in /usr/local/lib/python3.6/dist-packages (from matplotlib->descartes) (2.4.7)\n",
            "Requirement already satisfied: cycler>=0.10 in /usr/local/lib/python3.6/dist-packages (from matplotlib->descartes) (0.10.0)\n",
            "Requirement already satisfied: six>=1.5 in /usr/local/lib/python3.6/dist-packages (from python-dateutil>=2.1->matplotlib->descartes) (1.15.0)\n",
            "Requirement already satisfied: rasterio in /usr/local/lib/python3.6/dist-packages (1.1.8)\n",
            "Requirement already satisfied: affine in /usr/local/lib/python3.6/dist-packages (from rasterio) (2.3.0)\n",
            "Requirement already satisfied: click-plugins in /usr/local/lib/python3.6/dist-packages (from rasterio) (1.1.1)\n",
            "Requirement already satisfied: cligj>=0.5 in /usr/local/lib/python3.6/dist-packages (from rasterio) (0.7.0)\n",
            "Requirement already satisfied: click<8,>=4.0 in /usr/local/lib/python3.6/dist-packages (from rasterio) (7.1.2)\n",
            "Requirement already satisfied: numpy in /usr/local/lib/python3.6/dist-packages (from rasterio) (1.18.5)\n",
            "Requirement already satisfied: snuggs>=1.4.1 in /usr/local/lib/python3.6/dist-packages (from rasterio) (1.4.7)\n",
            "Requirement already satisfied: attrs in /usr/local/lib/python3.6/dist-packages (from rasterio) (20.2.0)\n",
            "Requirement already satisfied: pyparsing>=2.1.6 in /usr/local/lib/python3.6/dist-packages (from snuggs>=1.4.1->rasterio) (2.4.7)\n",
            "Requirement already satisfied: rasterstats in /usr/local/lib/python3.6/dist-packages (0.15.0)\n",
            "Requirement already satisfied: numpy>=1.9 in /usr/local/lib/python3.6/dist-packages (from rasterstats) (1.18.5)\n",
            "Requirement already satisfied: fiona in /usr/local/lib/python3.6/dist-packages (from rasterstats) (1.8.17)\n",
            "Requirement already satisfied: simplejson in /usr/local/lib/python3.6/dist-packages (from rasterstats) (3.17.2)\n",
            "Requirement already satisfied: cligj>=0.4 in /usr/local/lib/python3.6/dist-packages (from rasterstats) (0.7.0)\n",
            "Requirement already satisfied: affine<3.0 in /usr/local/lib/python3.6/dist-packages (from rasterstats) (2.3.0)\n",
            "Requirement already satisfied: rasterio>=1.0 in /usr/local/lib/python3.6/dist-packages (from rasterstats) (1.1.8)\n",
            "Requirement already satisfied: shapely in /usr/local/lib/python3.6/dist-packages (from rasterstats) (1.7.1)\n",
            "Requirement already satisfied: click<8,>=4.0 in /usr/local/lib/python3.6/dist-packages (from fiona->rasterstats) (7.1.2)\n",
            "Requirement already satisfied: munch in /usr/local/lib/python3.6/dist-packages (from fiona->rasterstats) (2.5.0)\n",
            "Requirement already satisfied: attrs>=17 in /usr/local/lib/python3.6/dist-packages (from fiona->rasterstats) (20.2.0)\n",
            "Requirement already satisfied: click-plugins>=1.0 in /usr/local/lib/python3.6/dist-packages (from fiona->rasterstats) (1.1.1)\n",
            "Requirement already satisfied: six>=1.7 in /usr/local/lib/python3.6/dist-packages (from fiona->rasterstats) (1.15.0)\n",
            "Requirement already satisfied: snuggs>=1.4.1 in /usr/local/lib/python3.6/dist-packages (from rasterio>=1.0->rasterstats) (1.4.7)\n",
            "Requirement already satisfied: pyparsing>=2.1.6 in /usr/local/lib/python3.6/dist-packages (from snuggs>=1.4.1->rasterio>=1.0->rasterstats) (2.4.7)\n"
          ],
          "name": "stdout"
        }
      ]
    },
    {
      "cell_type": "code",
      "metadata": {
        "id": "ZqbFH-cc48L1",
        "outputId": "19131b63-3a7a-42e9-f8ba-913f0a3a9d85",
        "colab": {
          "base_uri": "https://localhost:8080/"
        }
      },
      "source": [
        "import pandas as pd\n",
        "import numpy as np\n",
        "import matplotlib.pyplot as plt\n",
        "import os\n",
        "import json\n",
        "import geopandas as gpd\n",
        "import descartes\n",
        "import rasterio\n",
        "from rasterio.mask import mask\n",
        "from rasterio.features import geometry_mask\n",
        "from rasterio.features import sieve, shapes\n",
        "from shapely.geometry import mapping\n",
        "from rasterstats import zonal_stats\n",
        "import gdal"
      ],
      "execution_count": 3,
      "outputs": [
        {
          "output_type": "stream",
          "text": [
            "/usr/local/lib/python3.6/dist-packages/cligj/__init__.py:17: FutureWarning: cligj 1.0.0 will require Python >= 3.7\n",
            "  warn(\"cligj 1.0.0 will require Python >= 3.7\", FutureWarning)\n"
          ],
          "name": "stderr"
        }
      ]
    },
    {
      "cell_type": "code",
      "metadata": {
        "id": "YUp4Uh2R5sZh",
        "outputId": "53de087c-e529-4dd5-c356-6adbfe1569c0",
        "colab": {
          "base_uri": "https://localhost:8080/"
        }
      },
      "source": [
        "#Only if running in Google Colab, in which case input image, training polygons and output results need to be in Google Drive.\n",
        "from google.colab import drive\n",
        "drive.mount('/content/drive/', force_remount=True)"
      ],
      "execution_count": 4,
      "outputs": [
        {
          "output_type": "stream",
          "text": [
            "Mounted at /content/drive/\n"
          ],
          "name": "stdout"
        }
      ]
    },
    {
      "cell_type": "markdown",
      "metadata": {
        "id": "AMsQ8v3Ro1ns"
      },
      "source": [
        "Set working drive, file paths and dataset name parameters\n"
      ]
    },
    {
      "cell_type": "code",
      "metadata": {
        "id": "MYjD-LPt48Ml"
      },
      "source": [
        "\n",
        "wd = '/content/drive/My Drive'\n",
        "image_dir = os.path.join(wd, 'Imagery')\n",
        "plot_dir = os.path.join(wd, 'Plots')\n",
        "\n",
        "# Cairngorms parameters\n",
        "image = 'CUU_burn_cairngorms_indices.tif'\n",
        "outImage = 'CUU_burn_cairngorms_core_burns.tif'\n",
        "\n",
        "# Skye parameters\n",
        "# image = 'CUU_burn_skye_indices.tif'\n",
        "# outImage = 'CUU_burn_skye_core_burns.tif'"
      ],
      "execution_count": 5,
      "outputs": []
    },
    {
      "cell_type": "markdown",
      "metadata": {
        "id": "kVIFMdeuwhIu"
      },
      "source": [
        "###Open input image and polygon dataset"
      ]
    },
    {
      "cell_type": "code",
      "metadata": {
        "id": "yI995WqY48Nw",
        "outputId": "4f598b4b-88ff-4685-b24b-056513287b40",
        "colab": {
          "base_uri": "https://localhost:8080/"
        }
      },
      "source": [
        "# Read image\n",
        "s2 = rasterio.open(os.path.join(image_dir,image))\n",
        "print(s2.shape)\n",
        "profile = s2.profile.copy()\n",
        "# optionally check all ok by showing dsavi layer\n",
        "# plt.imshow(s2.read(21), cmap='pink')\n",
        "# plt.show()\n",
        "# print(type(s2))"
      ],
      "execution_count": 6,
      "outputs": [
        {
          "output_type": "stream",
          "text": [
            "(884, 1343)\n"
          ],
          "name": "stdout"
        }
      ]
    },
    {
      "cell_type": "markdown",
      "metadata": {
        "id": "2Ock8CzwKJgU"
      },
      "source": [
        "## Import pickled dataframe and determine threshold values from percentiles\n"
      ]
    },
    {
      "cell_type": "code",
      "metadata": {
        "id": "a4kkWSDgKSnv",
        "outputId": "96c5463a-f242-4582-82ed-86f31dbc96c4",
        "colab": {
          "base_uri": "https://localhost:8080/"
        }
      },
      "source": [
        "# read in pickled object of all data combined (created from previous script that generated the boxplots)\n",
        "pickleName = (\"All_data_for_thresholding.pkl\")\n",
        "df_all_data = pd.read_pickle(os.path.join(plot_dir,pickleName))\n",
        "\n",
        "# obtain percentile values\n",
        "# isolate burn rows in dataframe\n",
        "df_burns = df_all_data[df_all_data.Class == \"Burns\"]\n",
        "# subset columns we are interested in\n",
        "df_burns_indices = df_burns[['dnbr','dnbr2','dcsi','dsavi','postnbr']]\n",
        "# extract quartile statistics needed\n",
        "\n",
        "# medians\n",
        "print(\"medians\")\n",
        "dNBRQ2 = df_burns_indices.dnbr.quantile(0.5)\n",
        "print(dNBRQ2)\n",
        "dSAVIQ2 = df_burns_indices.dsavi.quantile(0.5)\n",
        "print(dSAVIQ2)\n",
        "postNBRQ2 = df_burns_indices.postnbr.quantile(0.5)\n",
        "print(postNBRQ2)\n",
        "\n",
        "# 75th percentile\n",
        "print(\"75th percentiles\")\n",
        "dNBRQ3 = df_burns_indices.dnbr.quantile(0.75)\n",
        "print(dNBRQ3)\n",
        "dSAVIQ3 = df_burns_indices.dsavi.quantile(0.75)\n",
        "print(dSAVIQ3)\n",
        "postNBRQ3 = df_burns_indices.postnbr.quantile(0.75)\n",
        "print(postNBRQ3)\n",
        "dNBR2Q3 = df_burns_indices.dnbr2.quantile(0.75)\n",
        "print(dNBR2Q3)\n",
        "\n",
        "# 25th percentile for extended areas\n",
        "print(\"25th percentiles\")\n",
        "dSAVIQ1 = df_burns_indices.dsavi.quantile(0.25)\n",
        "print(dSAVIQ1)\n",
        "postNBRQ1 = df_burns_indices.postnbr.quantile(0.25)\n",
        "print(postNBRQ1)"
      ],
      "execution_count": 9,
      "outputs": [
        {
          "output_type": "stream",
          "text": [
            "medians\n",
            "0.214064359664917\n",
            "0.2852725386619568\n",
            "0.23950617015361786\n",
            "75th percentiles\n",
            "0.2735748812556267\n",
            "0.3618958219885826\n",
            "0.2981530427932739\n",
            "0.1445029228925705\n",
            "25th percentiles\n",
            "0.20674878358840942\n",
            "0.17344753444194794\n"
          ],
          "name": "stdout"
        }
      ]
    },
    {
      "cell_type": "markdown",
      "metadata": {
        "id": "KQ-AwVBmcF2x"
      },
      "source": [
        "## Set the threshold\n"
      ]
    },
    {
      "cell_type": "code",
      "metadata": {
        "id": "X2PKAW4ycOH5"
      },
      "source": [
        "# for multiple indices threshold\n",
        "# read in bands required 2 postnbr; 3 dnbr; 6 dnbr2; 15 dcsi; 21 dsavi \n",
        "indicesArray = s2.read([2,3,6,15,21])\n",
        "\n",
        "# read in a single band as a template for the output reclassified image containing core burn pixels\n",
        "band1 = s2.read(1)\n",
        "reclassArray = band1.copy()\n",
        "# reset all values in output raster to 0 as otherwise pixel values not reclassed by the condition below may retain value from prenbr (band1)\n",
        "reclassArray[np.where(reclassArray != 0)] = 0\n",
        "\n",
        "# set up second array to hold extended burn area\n",
        "extendArray = np.copy(reclassArray)\n",
        "\n",
        "# reclassify the array to contain core burn pixels\n",
        "# in this case where dsavi is greater than the median and post fire image NBR is greater than the median \n",
        "reclassArray[np.where((indicesArray[4]>=dSAVIQ2) & (indicesArray[0]>=postNBRQ2))] = 1 \n",
        "# then attempt to solve issue of edges of clouds being falsely identified which have high values in dnbr2\n",
        "reclassArray[np.where(indicesArray[2]>=0.8)] = 0\n",
        "\n",
        "# rasterio function to exclude clumps of pixels smaller than 3.  Diagonally joined pixels are allowed.\n",
        "sievedArray = sieve(reclassArray.astype(rasterio.uint8), size=3, connectivity=8)\n",
        "\n",
        "# reclassify the second array to contain extended burn pixels\n",
        "# in this case where dsavi is greater than the median and post fire image NBR is greater than the median \n",
        "extendArray[np.where(indicesArray[4]>=dSAVIQ1)] = 1 \n",
        "\n",
        "# rasterio function to exclude clumps of pixels smaller than 3.  Diagonally joined pixels are allowed.\n",
        "sievedExtendArray = sieve(extendArray.astype(rasterio.uint8), size=3, connectivity=8)"
      ],
      "execution_count": 10,
      "outputs": []
    },
    {
      "cell_type": "markdown",
      "metadata": {
        "id": "Zor1ibadb9_X"
      },
      "source": [
        "## Plot the thresholded rasters"
      ]
    },
    {
      "cell_type": "code",
      "metadata": {
        "id": "Lu6OXMyQck4y",
        "outputId": "4d86373f-9f14-4df4-8a70-c8b477afa852",
        "colab": {
          "base_uri": "https://localhost:8080/",
          "height": 875
        }
      },
      "source": [
        "# an inital look to see if in the right ballpark but viewing in GIS is much better!\n",
        "plt.figure(figsize=(10,8)); \n",
        "plt.imshow(sievedArray,cmap='pink')\n",
        "plt.title('Core burn pixels image')\n",
        "ax=plt.gca(); ax.ticklabel_format(useOffset=False, style='plain') #do not use scientific notation \n",
        "rotatexlabels = plt.setp(ax.get_xticklabels(),rotation=90) #rotate x tick labels 90 degrees\n",
        "\n",
        "plt.figure(figsize=(10,8)); \n",
        "plt.imshow(sievedExtendArray,cmap='pink')\n",
        "plt.title('Extended areas image')\n",
        "ax=plt.gca(); ax.ticklabel_format(useOffset=False, style='plain') #do not use scientific notation \n",
        "rotatexlabels = plt.setp(ax.get_xticklabels(),rotation=90) #rotate x tick labels 90 degrees\n"
      ],
      "execution_count": 12,
      "outputs": [
        {
          "output_type": "display_data",
          "data": {
            "image/png": "[encoded data removed]",
            "text/plain": [
              "<Figure size 720x576 with 1 Axes>"
            ]
          },
          "metadata": {
            "tags": [],
            "needs_background": "light"
          }
        },
        {
          "output_type": "display_data",
          "data": {
            "image/png": "[encoded data removed]",
            "text/plain": [
              "<Figure size 720x576 with 1 Axes>"
            ]
          },
          "metadata": {
            "tags": [],
            "needs_background": "light"
          }
        }
      ]
    },
    {
      "cell_type": "markdown",
      "metadata": {
        "id": "FC9VzrHUgH68"
      },
      "source": [
        "## Export the thresholded raster"
      ]
    },
    {
      "cell_type": "code",
      "metadata": {
        "id": "KsBo0YeUg9Tj"
      },
      "source": [
        "# export the classified array, converting to an integer\n",
        "profile.update(dtype=rasterio.uint8,\n",
        "        count=1,\n",
        "        compress='lzw')  \n",
        "\n",
        "with rasterio.open(os.path.join(image_dir,outImage), 'w', **profile) as dst:\n",
        "        dst.write(sievedArray, 1)"
      ],
      "execution_count": null,
      "outputs": []
    }
  ]
}