{
  "nbformat": 4,
  "nbformat_minor": 0,
  "metadata": {
    "colab": {
      "name": "CUU_burn_extent_image_thresholding.ipynb",
      "provenance": [],
      "collapsed_sections": [],
      "machine_shape": "hm",
      "include_colab_link": true
    },
    "kernelspec": {
      "name": "python3",
      "display_name": "Python 3"
    }
  },
  "cells": [
    {
      "cell_type": "markdown",
      "metadata": {
        "id": "view-in-github",
        "colab_type": "text"
      },
      "source": [
        "<a href=\"https://colab.research.google.com/github/duncansnh/burn-mapping/blob/master/CUU_burn_extent_image_thresholding.ipynb\" target=\"_parent\"><img src=\"https://colab.research.google.com/assets/colab-badge.svg\" alt=\"Open In Colab\"/></a>"
      ]
    },
    {
      "cell_type": "markdown",
      "metadata": {
        "id": "AzhcWTCF4xvQ"
      },
      "source": [
        "##Script to threshold an input image based on one or more index thresholds\n",
        "Inputs are\n",
        "\n",
        "1)  indices generated from sentinel 2 imagery (generated from previous script) \n",
        "\n",
        "Main steps:\n",
        "•\tthreshold the image\n",
        "\n",
        "Duncan Blake NatureScot 30 September 2020\n",
        "\n",
        "Changes 13 November 2020: \n",
        "\n",
        "Extra code to create a second thresholding layer to test whether this is a viable alternative to region growing"
      ]
    },
    {
      "cell_type": "code",
      "metadata": {
        "id": "bQ4BbT9b5SGT",
        "outputId": "89f5ad37-b206-46b3-e53b-fe71732fda68",
        "colab": {
          "base_uri": "https://localhost:8080/"
        }
      },
      "source": [
        "#This is only required if running in colab notebook to install the libraries\n",
        "#If running Python code elsewhere need to make sure below libraries are installed\n",
        "! pip install geopandas\n",
        "! pip install descartes\n",
        "! pip install rasterio\n",
        "! pip install rasterstats"
      ],
      "execution_count": 1,
      "outputs": [
        {
          "output_type": "stream",
          "text": [
            "Collecting geopandas\n",
            "\u001b[?25l  Downloading https://files.pythonhosted.org/packages/f7/a4/e66aafbefcbb717813bf3a355c8c4fc3ed04ea1dd7feb2920f2f4f868921/geopandas-0.8.1-py2.py3-none-any.whl (962kB)\n",
            "\r\u001b[K     |▍                               | 10kB 19.5MB/s eta 0:00:01\r\u001b[K     |▊                               | 20kB 21.8MB/s eta 0:00:01\r\u001b[K     |█                               | 30kB 10.9MB/s eta 0:00:01\r\u001b[K     |█▍                              | 40kB 8.8MB/s eta 0:00:01\r\u001b[K     |█▊                              | 51kB 4.2MB/s eta 0:00:01\r\u001b[K     |██                              | 61kB 4.8MB/s eta 0:00:01\r\u001b[K     |██▍                             | 71kB 5.3MB/s eta 0:00:01\r\u001b[K     |██▊                             | 81kB 5.4MB/s eta 0:00:01\r\u001b[K     |███                             | 92kB 5.6MB/s eta 0:00:01\r\u001b[K     |███▍                            | 102kB 6.0MB/s eta 0:00:01\r\u001b[K     |███▊                            | 112kB 6.0MB/s eta 0:00:01\r\u001b[K     |████                            | 122kB 6.0MB/s eta 0:00:01\r\u001b[K     |████▍                           | 133kB 6.0MB/s eta 0:00:01\r\u001b[K     |████▊                           | 143kB 6.0MB/s eta 0:00:01\r\u001b[K     |█████                           | 153kB 6.0MB/s eta 0:00:01\r\u001b[K     |█████▌                          | 163kB 6.0MB/s eta 0:00:01\r\u001b[K     |█████▉                          | 174kB 6.0MB/s eta 0:00:01\r\u001b[K     |██████▏                         | 184kB 6.0MB/s eta 0:00:01\r\u001b[K     |██████▌                         | 194kB 6.0MB/s eta 0:00:01\r\u001b[K     |██████▉                         | 204kB 6.0MB/s eta 0:00:01\r\u001b[K     |███████▏                        | 215kB 6.0MB/s eta 0:00:01\r\u001b[K     |███████▌                        | 225kB 6.0MB/s eta 0:00:01\r\u001b[K     |███████▉                        | 235kB 6.0MB/s eta 0:00:01\r\u001b[K     |████████▏                       | 245kB 6.0MB/s eta 0:00:01\r\u001b[K     |████████▌                       | 256kB 6.0MB/s eta 0:00:01\r\u001b[K     |████████▉                       | 266kB 6.0MB/s eta 0:00:01\r\u001b[K     |█████████▏                      | 276kB 6.0MB/s eta 0:00:01\r\u001b[K     |█████████▌                      | 286kB 6.0MB/s eta 0:00:01\r\u001b[K     |█████████▉                      | 296kB 6.0MB/s eta 0:00:01\r\u001b[K     |██████████▏                     | 307kB 6.0MB/s eta 0:00:01\r\u001b[K     |██████████▌                     | 317kB 6.0MB/s eta 0:00:01\r\u001b[K     |███████████                     | 327kB 6.0MB/s eta 0:00:01\r\u001b[K     |███████████▎                    | 337kB 6.0MB/s eta 0:00:01\r\u001b[K     |███████████▋                    | 348kB 6.0MB/s eta 0:00:01\r\u001b[K     |████████████                    | 358kB 6.0MB/s eta 0:00:01\r\u001b[K     |████████████▎                   | 368kB 6.0MB/s eta 0:00:01\r\u001b[K     |████████████▋                   | 378kB 6.0MB/s eta 0:00:01\r\u001b[K     |█████████████                   | 389kB 6.0MB/s eta 0:00:01\r\u001b[K     |█████████████▎                  | 399kB 6.0MB/s eta 0:00:01\r\u001b[K     |█████████████▋                  | 409kB 6.0MB/s eta 0:00:01\r\u001b[K     |██████████████                  | 419kB 6.0MB/s eta 0:00:01\r\u001b[K     |██████████████▎                 | 430kB 6.0MB/s eta 0:00:01\r\u001b[K     |██████████████▋                 | 440kB 6.0MB/s eta 0:00:01\r\u001b[K     |███████████████                 | 450kB 6.0MB/s eta 0:00:01\r\u001b[K     |███████████████▎                | 460kB 6.0MB/s eta 0:00:01\r\u001b[K     |███████████████▋                | 471kB 6.0MB/s eta 0:00:01\r\u001b[K     |████████████████                | 481kB 6.0MB/s eta 0:00:01\r\u001b[K     |████████████████▍               | 491kB 6.0MB/s eta 0:00:01\r\u001b[K     |████████████████▊               | 501kB 6.0MB/s eta 0:00:01\r\u001b[K     |█████████████████               | 512kB 6.0MB/s eta 0:00:01\r\u001b[K     |█████████████████▍              | 522kB 6.0MB/s eta 0:00:01\r\u001b[K     |█████████████████▊              | 532kB 6.0MB/s eta 0:00:01\r\u001b[K     |██████████████████              | 542kB 6.0MB/s eta 0:00:01\r\u001b[K     |██████████████████▍             | 552kB 6.0MB/s eta 0:00:01\r\u001b[K     |██████████████████▊             | 563kB 6.0MB/s eta 0:00:01\r\u001b[K     |███████████████████             | 573kB 6.0MB/s eta 0:00:01\r\u001b[K     |███████████████████▍            | 583kB 6.0MB/s eta 0:00:01\r\u001b[K     |███████████████████▊            | 593kB 6.0MB/s eta 0:00:01\r\u001b[K     |████████████████████            | 604kB 6.0MB/s eta 0:00:01\r\u001b[K     |████████████████████▍           | 614kB 6.0MB/s eta 0:00:01\r\u001b[K     |████████████████████▊           | 624kB 6.0MB/s eta 0:00:01\r\u001b[K     |█████████████████████           | 634kB 6.0MB/s eta 0:00:01\r\u001b[K     |█████████████████████▍          | 645kB 6.0MB/s eta 0:00:01\r\u001b[K     |█████████████████████▉          | 655kB 6.0MB/s eta 0:00:01\r\u001b[K     |██████████████████████▏         | 665kB 6.0MB/s eta 0:00:01\r\u001b[K     |██████████████████████▌         | 675kB 6.0MB/s eta 0:00:01\r\u001b[K     |██████████████████████▉         | 686kB 6.0MB/s eta 0:00:01\r\u001b[K     |███████████████████████▏        | 696kB 6.0MB/s eta 0:00:01\r\u001b[K     |███████████████████████▌        | 706kB 6.0MB/s eta 0:00:01\r\u001b[K     |███████████████████████▉        | 716kB 6.0MB/s eta 0:00:01\r\u001b[K     |████████████████████████▏       | 727kB 6.0MB/s eta 0:00:01\r\u001b[K     |████████████████████████▌       | 737kB 6.0MB/s eta 0:00:01\r\u001b[K     |████████████████████████▉       | 747kB 6.0MB/s eta 0:00:01\r\u001b[K     |█████████████████████████▏      | 757kB 6.0MB/s eta 0:00:01\r\u001b[K     |█████████████████████████▌      | 768kB 6.0MB/s eta 0:00:01\r\u001b[K     |█████████████████████████▉      | 778kB 6.0MB/s eta 0:00:01\r\u001b[K     |██████████████████████████▏     | 788kB 6.0MB/s eta 0:00:01\r\u001b[K     |██████████████████████████▌     | 798kB 6.0MB/s eta 0:00:01\r\u001b[K     |██████████████████████████▉     | 808kB 6.0MB/s eta 0:00:01\r\u001b[K     |███████████████████████████▎    | 819kB 6.0MB/s eta 0:00:01\r\u001b[K     |███████████████████████████▋    | 829kB 6.0MB/s eta 0:00:01\r\u001b[K     |████████████████████████████    | 839kB 6.0MB/s eta 0:00:01\r\u001b[K     |████████████████████████████▎   | 849kB 6.0MB/s eta 0:00:01\r\u001b[K     |████████████████████████████▋   | 860kB 6.0MB/s eta 0:00:01\r\u001b[K     |█████████████████████████████   | 870kB 6.0MB/s eta 0:00:01\r\u001b[K     |█████████████████████████████▎  | 880kB 6.0MB/s eta 0:00:01\r\u001b[K     |█████████████████████████████▋  | 890kB 6.0MB/s eta 0:00:01\r\u001b[K     |██████████████████████████████  | 901kB 6.0MB/s eta 0:00:01\r\u001b[K     |██████████████████████████████▎ | 911kB 6.0MB/s eta 0:00:01\r\u001b[K     |██████████████████████████████▋ | 921kB 6.0MB/s eta 0:00:01\r\u001b[K     |███████████████████████████████ | 931kB 6.0MB/s eta 0:00:01\r\u001b[K     |███████████████████████████████▎| 942kB 6.0MB/s eta 0:00:01\r\u001b[K     |███████████████████████████████▋| 952kB 6.0MB/s eta 0:00:01\r\u001b[K     |████████████████████████████████| 962kB 6.0MB/s eta 0:00:01\r\u001b[K     |████████████████████████████████| 972kB 6.0MB/s \n",
            "\u001b[?25hRequirement already satisfied: shapely in /usr/local/lib/python3.6/dist-packages (from geopandas) (1.7.1)\n",
            "Collecting fiona\n",
            "\u001b[?25l  Downloading https://files.pythonhosted.org/packages/36/8b/e8b2c11bed5373c8e98edb85ce891b09aa1f4210fd451d0fb3696b7695a2/Fiona-1.8.17-cp36-cp36m-manylinux1_x86_64.whl (14.8MB)\n",
            "\u001b[K     |████████████████████████████████| 14.8MB 264kB/s \n",
            "\u001b[?25hRequirement already satisfied: pandas>=0.23.0 in /usr/local/lib/python3.6/dist-packages (from geopandas) (1.1.4)\n",
            "Collecting pyproj>=2.2.0\n",
            "\u001b[?25l  Downloading https://files.pythonhosted.org/packages/e4/ab/280e80a67cfc109d15428c0ec56391fc03a65857b7727cf4e6e6f99a4204/pyproj-3.0.0.post1-cp36-cp36m-manylinux2010_x86_64.whl (6.4MB)\n",
            "\u001b[K     |████████████████████████████████| 6.5MB 49.5MB/s \n",
            "\u001b[?25hRequirement already satisfied: attrs>=17 in /usr/local/lib/python3.6/dist-packages (from fiona->geopandas) (20.2.0)\n",
            "Requirement already satisfied: six>=1.7 in /usr/local/lib/python3.6/dist-packages (from fiona->geopandas) (1.15.0)\n",
            "Collecting click-plugins>=1.0\n",
            "  Downloading https://files.pythonhosted.org/packages/e9/da/824b92d9942f4e472702488857914bdd50f73021efea15b4cad9aca8ecef/click_plugins-1.1.1-py2.py3-none-any.whl\n",
            "Collecting cligj>=0.5\n",
            "  Downloading https://files.pythonhosted.org/packages/ba/06/e3440b1f2dc802d35f329f299ba96153e9fcbfdef75e17f4b61f79430c6a/cligj-0.7.0-py3-none-any.whl\n",
            "Requirement already satisfied: click<8,>=4.0 in /usr/local/lib/python3.6/dist-packages (from fiona->geopandas) (7.1.2)\n",
            "Collecting munch\n",
            "  Downloading https://files.pythonhosted.org/packages/cc/ab/85d8da5c9a45e072301beb37ad7f833cd344e04c817d97e0cc75681d248f/munch-2.5.0-py2.py3-none-any.whl\n",
            "Requirement already satisfied: pytz>=2017.2 in /usr/local/lib/python3.6/dist-packages (from pandas>=0.23.0->geopandas) (2018.9)\n",
            "Requirement already satisfied: numpy>=1.15.4 in /usr/local/lib/python3.6/dist-packages (from pandas>=0.23.0->geopandas) (1.18.5)\n",
            "Requirement already satisfied: python-dateutil>=2.7.3 in /usr/local/lib/python3.6/dist-packages (from pandas>=0.23.0->geopandas) (2.8.1)\n",
            "Requirement already satisfied: certifi in /usr/local/lib/python3.6/dist-packages (from pyproj>=2.2.0->geopandas) (2020.6.20)\n",
            "Installing collected packages: click-plugins, cligj, munch, fiona, pyproj, geopandas\n",
            "Successfully installed click-plugins-1.1.1 cligj-0.7.0 fiona-1.8.17 geopandas-0.8.1 munch-2.5.0 pyproj-3.0.0.post1\n",
            "Requirement already satisfied: descartes in /usr/local/lib/python3.6/dist-packages (1.1.0)\n",
            "Requirement already satisfied: matplotlib in /usr/local/lib/python3.6/dist-packages (from descartes) (3.2.2)\n",
            "Requirement already satisfied: pyparsing!=2.0.4,!=2.1.2,!=2.1.6,>=2.0.1 in /usr/local/lib/python3.6/dist-packages (from matplotlib->descartes) (2.4.7)\n",
            "Requirement already satisfied: cycler>=0.10 in /usr/local/lib/python3.6/dist-packages (from matplotlib->descartes) (0.10.0)\n",
            "Requirement already satisfied: kiwisolver>=1.0.1 in /usr/local/lib/python3.6/dist-packages (from matplotlib->descartes) (1.3.1)\n",
            "Requirement already satisfied: numpy>=1.11 in /usr/local/lib/python3.6/dist-packages (from matplotlib->descartes) (1.18.5)\n",
            "Requirement already satisfied: python-dateutil>=2.1 in /usr/local/lib/python3.6/dist-packages (from matplotlib->descartes) (2.8.1)\n",
            "Requirement already satisfied: six in /usr/local/lib/python3.6/dist-packages (from cycler>=0.10->matplotlib->descartes) (1.15.0)\n",
            "Collecting rasterio\n",
            "\u001b[?25l  Downloading https://files.pythonhosted.org/packages/33/1a/51baddc8581ead98fcef591624b4b2521b581943a9178912a2ac576e0235/rasterio-1.1.8-1-cp36-cp36m-manylinux1_x86_64.whl (18.3MB)\n",
            "\u001b[K     |████████████████████████████████| 18.3MB 48.4MB/s \n",
            "\u001b[?25hRequirement already satisfied: cligj>=0.5 in /usr/local/lib/python3.6/dist-packages (from rasterio) (0.7.0)\n",
            "Requirement already satisfied: numpy in /usr/local/lib/python3.6/dist-packages (from rasterio) (1.18.5)\n",
            "Collecting snuggs>=1.4.1\n",
            "  Downloading https://files.pythonhosted.org/packages/cc/0e/d27d6e806d6c0d1a2cfdc5d1f088e42339a0a54a09c3343f7f81ec8947ea/snuggs-1.4.7-py3-none-any.whl\n",
            "Requirement already satisfied: click-plugins in /usr/local/lib/python3.6/dist-packages (from rasterio) (1.1.1)\n",
            "Collecting affine\n",
            "  Downloading https://files.pythonhosted.org/packages/ac/a6/1a39a1ede71210e3ddaf623982b06ecfc5c5c03741ae659073159184cd3e/affine-2.3.0-py2.py3-none-any.whl\n",
            "Requirement already satisfied: click<8,>=4.0 in /usr/local/lib/python3.6/dist-packages (from rasterio) (7.1.2)\n",
            "Requirement already satisfied: attrs in /usr/local/lib/python3.6/dist-packages (from rasterio) (20.2.0)\n",
            "Requirement already satisfied: pyparsing>=2.1.6 in /usr/local/lib/python3.6/dist-packages (from snuggs>=1.4.1->rasterio) (2.4.7)\n",
            "Installing collected packages: snuggs, affine, rasterio\n",
            "Successfully installed affine-2.3.0 rasterio-1.1.8 snuggs-1.4.7\n",
            "Collecting rasterstats\n",
            "  Downloading https://files.pythonhosted.org/packages/9f/52/055b2b736e4aa1126c4619a561b44c3bc30fbe48025e6f3275b92928a0a0/rasterstats-0.15.0-py3-none-any.whl\n",
            "Requirement already satisfied: cligj>=0.4 in /usr/local/lib/python3.6/dist-packages (from rasterstats) (0.7.0)\n",
            "Requirement already satisfied: shapely in /usr/local/lib/python3.6/dist-packages (from rasterstats) (1.7.1)\n",
            "Requirement already satisfied: affine<3.0 in /usr/local/lib/python3.6/dist-packages (from rasterstats) (2.3.0)\n",
            "Collecting simplejson\n",
            "\u001b[?25l  Downloading https://files.pythonhosted.org/packages/73/96/1e6b19045375890068d7342cbe280dd64ae73fd90b9735b5efb8d1e044a1/simplejson-3.17.2-cp36-cp36m-manylinux2010_x86_64.whl (127kB)\n",
            "\u001b[K     |████████████████████████████████| 133kB 5.8MB/s \n",
            "\u001b[?25hRequirement already satisfied: fiona in /usr/local/lib/python3.6/dist-packages (from rasterstats) (1.8.17)\n",
            "Requirement already satisfied: numpy>=1.9 in /usr/local/lib/python3.6/dist-packages (from rasterstats) (1.18.5)\n",
            "Requirement already satisfied: rasterio>=1.0 in /usr/local/lib/python3.6/dist-packages (from rasterstats) (1.1.8)\n",
            "Requirement already satisfied: click<8,>=4.0 in /usr/local/lib/python3.6/dist-packages (from cligj>=0.4->rasterstats) (7.1.2)\n",
            "Requirement already satisfied: six>=1.7 in /usr/local/lib/python3.6/dist-packages (from fiona->rasterstats) (1.15.0)\n",
            "Requirement already satisfied: click-plugins>=1.0 in /usr/local/lib/python3.6/dist-packages (from fiona->rasterstats) (1.1.1)\n",
            "Requirement already satisfied: munch in /usr/local/lib/python3.6/dist-packages (from fiona->rasterstats) (2.5.0)\n",
            "Requirement already satisfied: attrs>=17 in /usr/local/lib/python3.6/dist-packages (from fiona->rasterstats) (20.2.0)\n",
            "Requirement already satisfied: snuggs>=1.4.1 in /usr/local/lib/python3.6/dist-packages (from rasterio>=1.0->rasterstats) (1.4.7)\n",
            "Requirement already satisfied: pyparsing>=2.1.6 in /usr/local/lib/python3.6/dist-packages (from snuggs>=1.4.1->rasterio>=1.0->rasterstats) (2.4.7)\n",
            "Installing collected packages: simplejson, rasterstats\n",
            "Successfully installed rasterstats-0.15.0 simplejson-3.17.2\n"
          ],
          "name": "stdout"
        }
      ]
    },
    {
      "cell_type": "code",
      "metadata": {
        "id": "ZqbFH-cc48L1"
      },
      "source": [
        "import pandas as pd\n",
        "import numpy as np\n",
        "import matplotlib.pyplot as plt\n",
        "import os\n",
        "import json\n",
        "import geopandas as gpd\n",
        "import descartes\n",
        "import rasterio\n",
        "from rasterio.mask import mask\n",
        "from rasterio.features import geometry_mask\n",
        "from rasterio.features import sieve, shapes\n",
        "from shapely.geometry import mapping\n",
        "from rasterstats import zonal_stats\n",
        "import gdal"
      ],
      "execution_count": null,
      "outputs": []
    },
    {
      "cell_type": "code",
      "metadata": {
        "id": "YUp4Uh2R5sZh"
      },
      "source": [
        "#Only if running in Google Colab, in which case input image, training polygons and output results need to be in Google Drive.\n",
        "from google.colab import drive\n",
        "drive.mount('/content/drive/', force_remount=True)"
      ],
      "execution_count": null,
      "outputs": []
    },
    {
      "cell_type": "markdown",
      "metadata": {
        "id": "AMsQ8v3Ro1ns"
      },
      "source": [
        "Set working drive, file paths and dataset name parameters\n"
      ]
    },
    {
      "cell_type": "code",
      "metadata": {
        "id": "MYjD-LPt48Ml"
      },
      "source": [
        "\n",
        "wd = '/content/drive/My Drive'\n",
        "image_dir = os.path.join(wd, 'Imagery')\n",
        "plot_dir = os.path.join(wd, 'Plots')\n",
        "\n",
        "# Cairngorms parameters\n",
        "image = 'CUU_burn_cairngorms_indices.tif'\n",
        "outImage = 'CUU_burn_cairngorms_core_burns.tif'\n",
        "\n",
        "# Skye parameters\n",
        "# image = 'CUU_burn_skye_indices.tif'\n",
        "# outImage = 'CUU_burn_skye_core_burns.tif'"
      ],
      "execution_count": null,
      "outputs": []
    },
    {
      "cell_type": "markdown",
      "metadata": {
        "id": "kVIFMdeuwhIu"
      },
      "source": [
        "###Open input image and polygon dataset"
      ]
    },
    {
      "cell_type": "code",
      "metadata": {
        "id": "yI995WqY48Nw"
      },
      "source": [
        "# Read image\n",
        "s2 = rasterio.open(os.path.join(image_dir,image))\n",
        "print(s2.shape)\n",
        "profile = s2.profile.copy()\n",
        "# optionally check all ok by showing dsavi layer\n",
        "# plt.imshow(s2.read(21), cmap='pink')\n",
        "# plt.show()\n",
        "# print(type(s2))"
      ],
      "execution_count": null,
      "outputs": []
    },
    {
      "cell_type": "markdown",
      "metadata": {
        "id": "2Ock8CzwKJgU"
      },
      "source": [
        "## Import pickled dataframe and determine threshold values from percentiles\n"
      ]
    },
    {
      "cell_type": "code",
      "metadata": {
        "id": "a4kkWSDgKSnv"
      },
      "source": [
        "# read in pickled object of all data combined (created from previous script that generated the boxplots)\n",
        "pickleName = (\"All_data_for_thresholding.pkl\")\n",
        "df_all_data = pd.read_pickle(os.path.join(plot_dir,pickleName))\n",
        "\n",
        "# obtain percentile values\n",
        "# isolate burn rows in dataframe\n",
        "df_burns = df_all_data[df_all_data.Class == \"Burns\"]\n",
        "# subset columns we are interested in\n",
        "df_burns_indices = df_burns[['dnbr','dnbr2','dcsi','dsavi','postnbr']]\n",
        "# extract quartile statistics needed\n",
        "\n",
        "# medians\n",
        "print(\"medians\")\n",
        "dNBRQ2 = df_burns_indices.dnbr.quantile(0.5)\n",
        "print(dNBRQ2)\n",
        "dSAVIQ2 = df_burns_indices.dsavi.quantile(0.5)\n",
        "print(dSAVIQ2)\n",
        "postNBRQ2 = df_burns_indices.postnbr.quantile(0.5)\n",
        "print(postNBRQ2)\n",
        "\n",
        "# 75th percentile\n",
        "print(\"75th percentiles\")\n",
        "dNBRQ3 = df_burns_indices.dnbr.quantile(0.75)\n",
        "print(dNBRQ3)\n",
        "dSAVIQ3 = df_burns_indices.dsavi.quantile(0.75)\n",
        "print(dSAVIQ3)\n",
        "postNBRQ3 = df_burns_indices.postnbr.quantile(0.75)\n",
        "print(postNBRQ3)\n",
        "dNBR2Q3 = df_burns_indices.dnbr2.quantile(0.75)\n",
        "print(dNBR2Q3)\n"
      ],
      "execution_count": null,
      "outputs": []
    },
    {
      "cell_type": "markdown",
      "metadata": {
        "id": "KQ-AwVBmcF2x"
      },
      "source": [
        "## Set the threshold\n"
      ]
    },
    {
      "cell_type": "code",
      "metadata": {
        "id": "X2PKAW4ycOH5"
      },
      "source": [
        "# for multiple indices threshold\n",
        "# read in bands required 2 postnbr; 3 dnbr; 6 dnbr2; 15 dcsi; 21 dsavi \n",
        "indicesArray = s2.read([2,3,6,15,21])\n",
        "\n",
        "# read in a single band as a template for the output reclassified image\n",
        "band1 = s2.read(1)\n",
        "reclassArray = band1.copy()\n",
        "# reset all values in output raster to 0 as otherwise pixel values not reclassed by the condition below may retain value from prenbr (band1)\n",
        "reclassArray[np.where(reclassArray != 0)] = 0\n",
        "\n",
        "# reclassify the raster\n",
        "# in this case where dsavi is greater than the median and post fire image NBR is greater than the mean \n",
        "reclassArray[np.where((indicesArray[4]>=dSAVIQ2) & (indicesArray[0]>=postNBRQ2))] = 1 \n",
        "# then attempt to solve issue of edges of clouds being falsely identified which have high values in dnbr2\n",
        "reclassArray[np.where(indicesArray[2]>=0.8)] = 0\n",
        "\n",
        "# rasterio function to exclude clumps of pixels smaller than 3.  Diagonally joined pixels are allowed.\n",
        "sievedArray = sieve(reclassArray.astype(rasterio.uint8), size=3, connectivity=8)\n"
      ],
      "execution_count": null,
      "outputs": []
    },
    {
      "cell_type": "markdown",
      "metadata": {
        "id": "Zor1ibadb9_X"
      },
      "source": [
        "## Plot the thresholded raster"
      ]
    },
    {
      "cell_type": "code",
      "metadata": {
        "id": "Lu6OXMyQck4y"
      },
      "source": [
        "# an inital look to see if in the right ballpark but viewing in GIS is much better!\n",
        "plt.figure(figsize=(20,15)); \n",
        "plt.imshow(sievedArray,cmap='pink')\n",
        "plt.title('Thresholded image')\n",
        "ax=plt.gca(); ax.ticklabel_format(useOffset=False, style='plain') #do not use scientific notation \n",
        "rotatexlabels = plt.setp(ax.get_xticklabels(),rotation=90) #rotate x tick labels 90 degrees\n",
        "\n"
      ],
      "execution_count": null,
      "outputs": []
    },
    {
      "cell_type": "markdown",
      "metadata": {
        "id": "FC9VzrHUgH68"
      },
      "source": [
        "## Export the thresholded raster"
      ]
    },
    {
      "cell_type": "code",
      "metadata": {
        "id": "KsBo0YeUg9Tj"
      },
      "source": [
        "# export the classified array, converting to an integer\n",
        "profile.update(dtype=rasterio.uint8,\n",
        "        count=1,\n",
        "        compress='lzw')  \n",
        "\n",
        "with rasterio.open(os.path.join(image_dir,outImage), 'w', **profile) as dst:\n",
        "        dst.write(sievedArray, 1)"
      ],
      "execution_count": null,
      "outputs": []
    }
  ]
}